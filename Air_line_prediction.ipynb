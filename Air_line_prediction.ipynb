{
  "nbformat": 4,
  "nbformat_minor": 0,
  "metadata": {
    "colab": {
      "name": "Air line prediction",
      "provenance": [],
      "collapsed_sections": []
    },
    "kernelspec": {
      "name": "python3",
      "display_name": "Python 3"
    },
    "accelerator": "TPU"
  },
  "cells": [
    {
      "cell_type": "code",
      "metadata": {
        "id": "Fg7XVr9BX7hh",
        "colab_type": "code",
        "colab": {}
      },
      "source": [
        "import numpy as np\n",
        "import pandas as pd\n",
        "import matplotlib.pyplot as plt\n",
        "from keras.layers import Dense, LSTM\n",
        "from keras.models import Sequential\n",
        "from sklearn.preprocessing import MinMaxScaler"
      ],
      "execution_count": 0,
      "outputs": []
    },
    {
      "cell_type": "code",
      "metadata": {
        "id": "FloA4-XIYY3T",
        "colab_type": "code",
        "colab": {
          "base_uri": "https://localhost:8080/",
          "height": 86
        },
        "outputId": "78660bf4-f653-4472-e3c5-b410b8f451f1"
      },
      "source": [
        
      ],
      "execution_count": 2,
      "outputs": [
        {
          "output_type": "stream",
          "text": [
            
          ],
          "name": "stdout"
        }
      ]
    },
    {
      "cell_type": "code",
      "metadata": {
        "id": "RW0xDoxpYa2S",
        "colab_type": "code",
        "colab": {}
      },
      "source": [
        "data=pd.read_csv('/content/Air-passengers-time-series-forecasting/AirPassengers.csv')"
      ],
      "execution_count": 0,
      "outputs": []
    },
    {
      "cell_type": "code",
      "metadata": {
        "id": "Ks5ex9EVYj3C",
        "colab_type": "code",
        "colab": {
          "base_uri": "https://localhost:8080/",
          "height": 206
        },
        "outputId": "5c32eac6-bc33-484b-ac66-51a9c3b6851f"
      },
      "source": [
        "data.head()"
      ],
      "execution_count": 4,
      "outputs": [
        {
          "output_type": "execute_result",
          "data": {
            "text/html": [
              "<div>\n",
              "<style scoped>\n",
              "    .dataframe tbody tr th:only-of-type {\n",
              "        vertical-align: middle;\n",
              "    }\n",
              "\n",
              "    .dataframe tbody tr th {\n",
              "        vertical-align: top;\n",
              "    }\n",
              "\n",
              "    .dataframe thead th {\n",
              "        text-align: right;\n",
              "    }\n",
              "</style>\n",
              "<table border=\"1\" class=\"dataframe\">\n",
              "  <thead>\n",
              "    <tr style=\"text-align: right;\">\n",
              "      <th></th>\n",
              "      <th>Month</th>\n",
              "      <th>#Passengers</th>\n",
              "    </tr>\n",
              "  </thead>\n",
              "  <tbody>\n",
              "    <tr>\n",
              "      <th>0</th>\n",
              "      <td>1949-01</td>\n",
              "      <td>112</td>\n",
              "    </tr>\n",
              "    <tr>\n",
              "      <th>1</th>\n",
              "      <td>1949-02</td>\n",
              "      <td>118</td>\n",
              "    </tr>\n",
              "    <tr>\n",
              "      <th>2</th>\n",
              "      <td>1949-03</td>\n",
              "      <td>132</td>\n",
              "    </tr>\n",
              "    <tr>\n",
              "      <th>3</th>\n",
              "      <td>1949-04</td>\n",
              "      <td>129</td>\n",
              "    </tr>\n",
              "    <tr>\n",
              "      <th>4</th>\n",
              "      <td>1949-05</td>\n",
              "      <td>121</td>\n",
              "    </tr>\n",
              "  </tbody>\n",
              "</table>\n",
              "</div>"
            ],
            "text/plain": [
              "     Month  #Passengers\n",
              "0  1949-01          112\n",
              "1  1949-02          118\n",
              "2  1949-03          132\n",
              "3  1949-04          129\n",
              "4  1949-05          121"
            ]
          },
          "metadata": {
            "tags": []
          },
          "execution_count": 4
        }
      ]
    },
    {
      "cell_type": "code",
      "metadata": {
        "id": "AbIHxkDcYlFl",
        "colab_type": "code",
        "colab": {
          "base_uri": "https://localhost:8080/",
          "height": 139
        },
        "outputId": "c1942bbd-8d01-452c-b7ba-654156d4c52b"
      },
      "source": [
        "data.info()"
      ],
      "execution_count": 5,
      "outputs": [
        {
          "output_type": "stream",
          "text": [
            "<class 'pandas.core.frame.DataFrame'>\n",
            "RangeIndex: 144 entries, 0 to 143\n",
            "Data columns (total 2 columns):\n",
            "Month          144 non-null object\n",
            "#Passengers    144 non-null int64\n",
            "dtypes: int64(1), object(1)\n",
            "memory usage: 2.4+ KB\n"
          ],
          "name": "stdout"
        }
      ]
    },
    {
      "cell_type": "code",
      "metadata": {
        "id": "YoF9chG_YnPP",
        "colab_type": "code",
        "colab": {
          "base_uri": "https://localhost:8080/",
          "height": 69
        },
        "outputId": "216ec9c7-4c3a-46ec-c168-06736da24623"
      },
      "source": [
        "data.isnull().sum()"
      ],
      "execution_count": 6,
      "outputs": [
        {
          "output_type": "execute_result",
          "data": {
            "text/plain": [
              "Month          0\n",
              "#Passengers    0\n",
              "dtype: int64"
            ]
          },
          "metadata": {
            "tags": []
          },
          "execution_count": 6
        }
      ]
    },
    {
      "cell_type": "code",
      "metadata": {
        "id": "Ob3ztXT5Yq0z",
        "colab_type": "code",
        "colab": {}
      },
      "source": [
        "df=data['#Passengers']"
      ],
      "execution_count": 0,
      "outputs": []
    },
    {
      "cell_type": "code",
      "metadata": {
        "id": "bYCrV7nYY2j4",
        "colab_type": "code",
        "colab": {}
      },
      "source": [
        "df=np.array(df).reshape(-1,1)"
      ],
      "execution_count": 0,
      "outputs": []
    },
    {
      "cell_type": "code",
      "metadata": {
        "id": "LvASohbjZBKp",
        "colab_type": "code",
        "colab": {
          "base_uri": "https://localhost:8080/",
          "height": 1000
        },
        "outputId": "04f8c270-6076-41ee-8b24-bdf4c59a94b1"
      },
      "source": [
        "df"
      ],
      "execution_count": 9,
      "outputs": [
        {
          "output_type": "execute_result",
          "data": {
            "text/plain": [
              "array([[112],\n",
              "       [118],\n",
              "       [132],\n",
              "       [129],\n",
              "       [121],\n",
              "       [135],\n",
              "       [148],\n",
              "       [148],\n",
              "       [136],\n",
              "       [119],\n",
              "       [104],\n",
              "       [118],\n",
              "       [115],\n",
              "       [126],\n",
              "       [141],\n",
              "       [135],\n",
              "       [125],\n",
              "       [149],\n",
              "       [170],\n",
              "       [170],\n",
              "       [158],\n",
              "       [133],\n",
              "       [114],\n",
              "       [140],\n",
              "       [145],\n",
              "       [150],\n",
              "       [178],\n",
              "       [163],\n",
              "       [172],\n",
              "       [178],\n",
              "       [199],\n",
              "       [199],\n",
              "       [184],\n",
              "       [162],\n",
              "       [146],\n",
              "       [166],\n",
              "       [171],\n",
              "       [180],\n",
              "       [193],\n",
              "       [181],\n",
              "       [183],\n",
              "       [218],\n",
              "       [230],\n",
              "       [242],\n",
              "       [209],\n",
              "       [191],\n",
              "       [172],\n",
              "       [194],\n",
              "       [196],\n",
              "       [196],\n",
              "       [236],\n",
              "       [235],\n",
              "       [229],\n",
              "       [243],\n",
              "       [264],\n",
              "       [272],\n",
              "       [237],\n",
              "       [211],\n",
              "       [180],\n",
              "       [201],\n",
              "       [204],\n",
              "       [188],\n",
              "       [235],\n",
              "       [227],\n",
              "       [234],\n",
              "       [264],\n",
              "       [302],\n",
              "       [293],\n",
              "       [259],\n",
              "       [229],\n",
              "       [203],\n",
              "       [229],\n",
              "       [242],\n",
              "       [233],\n",
              "       [267],\n",
              "       [269],\n",
              "       [270],\n",
              "       [315],\n",
              "       [364],\n",
              "       [347],\n",
              "       [312],\n",
              "       [274],\n",
              "       [237],\n",
              "       [278],\n",
              "       [284],\n",
              "       [277],\n",
              "       [317],\n",
              "       [313],\n",
              "       [318],\n",
              "       [374],\n",
              "       [413],\n",
              "       [405],\n",
              "       [355],\n",
              "       [306],\n",
              "       [271],\n",
              "       [306],\n",
              "       [315],\n",
              "       [301],\n",
              "       [356],\n",
              "       [348],\n",
              "       [355],\n",
              "       [422],\n",
              "       [465],\n",
              "       [467],\n",
              "       [404],\n",
              "       [347],\n",
              "       [305],\n",
              "       [336],\n",
              "       [340],\n",
              "       [318],\n",
              "       [362],\n",
              "       [348],\n",
              "       [363],\n",
              "       [435],\n",
              "       [491],\n",
              "       [505],\n",
              "       [404],\n",
              "       [359],\n",
              "       [310],\n",
              "       [337],\n",
              "       [360],\n",
              "       [342],\n",
              "       [406],\n",
              "       [396],\n",
              "       [420],\n",
              "       [472],\n",
              "       [548],\n",
              "       [559],\n",
              "       [463],\n",
              "       [407],\n",
              "       [362],\n",
              "       [405],\n",
              "       [417],\n",
              "       [391],\n",
              "       [419],\n",
              "       [461],\n",
              "       [472],\n",
              "       [535],\n",
              "       [622],\n",
              "       [606],\n",
              "       [508],\n",
              "       [461],\n",
              "       [390],\n",
              "       [432]])"
            ]
          },
          "metadata": {
            "tags": []
          },
          "execution_count": 9
        }
      ]
    },
    {
      "cell_type": "code",
      "metadata": {
        "id": "RrdDQCxrZB76",
        "colab_type": "code",
        "colab": {}
      },
      "source": [
        "sc=MinMaxScaler()"
      ],
      "execution_count": 0,
      "outputs": []
    },
    {
      "cell_type": "code",
      "metadata": {
        "id": "3gQ17Ae8ZLrV",
        "colab_type": "code",
        "colab": {}
      },
      "source": [
        "df=sc.fit_transform(df)"
      ],
      "execution_count": 0,
      "outputs": []
    },
    {
      "cell_type": "code",
      "metadata": {
        "id": "OTTF-8kbZRR5",
        "colab_type": "code",
        "colab": {}
      },
      "source": [
        "train_size=100\n",
        "test_size=40"
      ],
      "execution_count": 0,
      "outputs": []
    },
    {
      "cell_type": "code",
      "metadata": {
        "id": "FcbfpSIrZkWE",
        "colab_type": "code",
        "colab": {
          "base_uri": "https://localhost:8080/",
          "height": 34
        },
        "outputId": "6f7c2972-f25a-4df8-b1d2-5266be7d89f2"
      },
      "source": [
        "train=df[0:train_size,:]\n",
        "train.shape"
      ],
      "execution_count": 13,
      "outputs": [
        {
          "output_type": "execute_result",
          "data": {
            "text/plain": [
              "(100, 1)"
            ]
          },
          "metadata": {
            "tags": []
          },
          "execution_count": 13
        }
      ]
    },
    {
      "cell_type": "code",
      "metadata": {
        "id": "kqXW5V_MZudm",
        "colab_type": "code",
        "colab": {
          "base_uri": "https://localhost:8080/",
          "height": 34
        },
        "outputId": "d9295c7e-74b9-4c49-e5e4-15186126d4e6"
      },
      "source": [
        "test=df[0:test_size,:]\n",
        "test.shape"
      ],
      "execution_count": 14,
      "outputs": [
        {
          "output_type": "execute_result",
          "data": {
            "text/plain": [
              "(40, 1)"
            ]
          },
          "metadata": {
            "tags": []
          },
          "execution_count": 14
        }
      ]
    },
    {
      "cell_type": "code",
      "metadata": {
        "id": "nqDATiS8Z0LS",
        "colab_type": "code",
        "colab": {}
      },
      "source": [
        "def get_dat(data,lookback):\n",
        "    datax,datay=[],[]\n",
        "    for i in range(len(df)-lookback-1):\n",
        "        a=df[i:(i+lookback),0]\n",
        "        datax.append(a)\n",
        "        datay.append(df[i+lookback,0])\n",
        "    return np.array(datax), np.array(datay)"
      ],
      "execution_count": 0,
      "outputs": []
    },
    {
      "cell_type": "code",
      "metadata": {
        "id": "-gTYK1pia6-l",
        "colab_type": "code",
        "colab": {}
      },
      "source": [
        "lookback=1\n",
        "xtrain,ytrain=get_dat(train,lookback)"
      ],
      "execution_count": 0,
      "outputs": []
    },
    {
      "cell_type": "code",
      "metadata": {
        "id": "-lJFNG7LbIRh",
        "colab_type": "code",
        "colab": {}
      },
      "source": [
        "xtest,ytest=get_dat(test,lookback)"
      ],
      "execution_count": 0,
      "outputs": []
    },
    {
      "cell_type": "code",
      "metadata": {
        "id": "fOrd5TqUbYEo",
        "colab_type": "code",
        "colab": {}
      },
      "source": [
        "xtrain=xtrain.reshape(xtrain.shape[0],xtrain.shape[1],1)\n",
        "xtest=xtest.reshape(xtest.shape[0],xtest.shape[1],1)\n"
      ],
      "execution_count": 0,
      "outputs": []
    },
    {
      "cell_type": "code",
      "metadata": {
        "id": "JIUc_fOGboc5",
        "colab_type": "code",
        "colab": {
          "base_uri": "https://localhost:8080/",
          "height": 34
        },
        "outputId": "cadb66b6-e3df-4780-c1be-86ed08402e08"
      },
      "source": [
        "xtrain.shape"
      ],
      "execution_count": 25,
      "outputs": [
        {
          "output_type": "execute_result",
          "data": {
            "text/plain": [
              "(142, 1, 1)"
            ]
          },
          "metadata": {
            "tags": []
          },
          "execution_count": 25
        }
      ]
    },
    {
      "cell_type": "code",
      "metadata": {
        "id": "dhOWC7YBcBqE",
        "colab_type": "code",
        "colab": {
          "base_uri": "https://localhost:8080/",
          "height": 141
        },
        "outputId": "ab8f6613-0b2d-47b3-b08a-a04b568a0e68"
      },
      "source": [
        "model=Sequential()\n",
        "model.add(LSTM(5, input_shape=(1,lookback)))\n",
        "model.add(Dense(1))"
      ],
      "execution_count": 27,
      "outputs": [
        {
          "output_type": "stream",
          "text": [
            "WARNING:tensorflow:From /usr/local/lib/python3.6/dist-packages/keras/backend/tensorflow_backend.py:66: The name tf.get_default_graph is deprecated. Please use tf.compat.v1.get_default_graph instead.\n",
            "\n",
            "WARNING:tensorflow:From /usr/local/lib/python3.6/dist-packages/keras/backend/tensorflow_backend.py:541: The name tf.placeholder is deprecated. Please use tf.compat.v1.placeholder instead.\n",
            "\n",
            "WARNING:tensorflow:From /usr/local/lib/python3.6/dist-packages/keras/backend/tensorflow_backend.py:4432: The name tf.random_uniform is deprecated. Please use tf.random.uniform instead.\n",
            "\n"
          ],
          "name": "stdout"
        }
      ]
    },
    {
      "cell_type": "code",
      "metadata": {
        "id": "Xv5HDjgFcTcf",
        "colab_type": "code",
        "colab": {
          "base_uri": "https://localhost:8080/",
          "height": 72
        },
        "outputId": "bea9eefc-3e3b-4e75-c55d-829b9998a4e0"
      },
      "source": [
        "model.compile(loss='mean_squared_error', optimizer='adam')"
      ],
      "execution_count": 28,
      "outputs": [
        {
          "output_type": "stream",
          "text": [
            "WARNING:tensorflow:From /usr/local/lib/python3.6/dist-packages/keras/optimizers.py:793: The name tf.train.Optimizer is deprecated. Please use tf.compat.v1.train.Optimizer instead.\n",
            "\n"
          ],
          "name": "stdout"
        }
      ]
    },
    {
      "cell_type": "code",
      "metadata": {
        "id": "EjBWefKLcW_8",
        "colab_type": "code",
        "colab": {
          "base_uri": "https://localhost:8080/",
          "height": 1000
        },
        "outputId": "3b43a65b-dac8-469f-9229-18e44a78f775"
      },
      "source": [
        "model.fit(xtrain,ytrain,epochs=100, batch_size=1)"
      ],
      "execution_count": 31,
      "outputs": [
        {
          "output_type": "stream",
          "text": [
            "Epoch 1/100\n",
            "142/142 [==============================] - 0s 2ms/step - loss: 0.0042\n",
            "Epoch 2/100\n",
            "142/142 [==============================] - 0s 2ms/step - loss: 0.0040\n",
            "Epoch 3/100\n",
            "142/142 [==============================] - 0s 2ms/step - loss: 0.0044\n",
            "Epoch 4/100\n",
            "142/142 [==============================] - 0s 2ms/step - loss: 0.0040\n",
            "Epoch 5/100\n",
            "142/142 [==============================] - 0s 2ms/step - loss: 0.0041\n",
            "Epoch 6/100\n",
            "142/142 [==============================] - 0s 2ms/step - loss: 0.0041\n",
            "Epoch 7/100\n",
            "142/142 [==============================] - 0s 2ms/step - loss: 0.0041\n",
            "Epoch 8/100\n",
            "142/142 [==============================] - 0s 2ms/step - loss: 0.0042\n",
            "Epoch 9/100\n",
            "142/142 [==============================] - 0s 2ms/step - loss: 0.0041\n",
            "Epoch 10/100\n",
            "142/142 [==============================] - 0s 2ms/step - loss: 0.0042\n",
            "Epoch 11/100\n",
            "142/142 [==============================] - 0s 2ms/step - loss: 0.0041\n",
            "Epoch 12/100\n",
            "142/142 [==============================] - 0s 2ms/step - loss: 0.0044\n",
            "Epoch 13/100\n",
            "142/142 [==============================] - 0s 2ms/step - loss: 0.0042\n",
            "Epoch 14/100\n",
            "142/142 [==============================] - 0s 2ms/step - loss: 0.0041\n",
            "Epoch 15/100\n",
            "142/142 [==============================] - 0s 2ms/step - loss: 0.0041\n",
            "Epoch 16/100\n",
            "142/142 [==============================] - 0s 2ms/step - loss: 0.0041\n",
            "Epoch 17/100\n",
            "142/142 [==============================] - 0s 2ms/step - loss: 0.0042\n",
            "Epoch 18/100\n",
            "142/142 [==============================] - 0s 2ms/step - loss: 0.0041\n",
            "Epoch 19/100\n",
            "142/142 [==============================] - 0s 2ms/step - loss: 0.0041\n",
            "Epoch 20/100\n",
            "142/142 [==============================] - 0s 2ms/step - loss: 0.0042\n",
            "Epoch 21/100\n",
            "142/142 [==============================] - 0s 2ms/step - loss: 0.0041\n",
            "Epoch 22/100\n",
            "142/142 [==============================] - 0s 2ms/step - loss: 0.0041\n",
            "Epoch 23/100\n",
            "142/142 [==============================] - 0s 2ms/step - loss: 0.0041\n",
            "Epoch 24/100\n",
            "142/142 [==============================] - 0s 2ms/step - loss: 0.0041\n",
            "Epoch 25/100\n",
            "142/142 [==============================] - 0s 2ms/step - loss: 0.0042\n",
            "Epoch 26/100\n",
            "142/142 [==============================] - 0s 2ms/step - loss: 0.0041\n",
            "Epoch 27/100\n",
            "142/142 [==============================] - 0s 2ms/step - loss: 0.0040\n",
            "Epoch 28/100\n",
            "142/142 [==============================] - 0s 2ms/step - loss: 0.0041\n",
            "Epoch 29/100\n",
            "142/142 [==============================] - 0s 2ms/step - loss: 0.0041\n",
            "Epoch 30/100\n",
            "142/142 [==============================] - 0s 2ms/step - loss: 0.0041\n",
            "Epoch 31/100\n",
            "142/142 [==============================] - 0s 2ms/step - loss: 0.0042\n",
            "Epoch 32/100\n",
            "142/142 [==============================] - 0s 2ms/step - loss: 0.0042\n",
            "Epoch 33/100\n",
            "142/142 [==============================] - 0s 2ms/step - loss: 0.0041\n",
            "Epoch 34/100\n",
            "142/142 [==============================] - 0s 2ms/step - loss: 0.0041\n",
            "Epoch 35/100\n",
            "142/142 [==============================] - 0s 2ms/step - loss: 0.0041\n",
            "Epoch 36/100\n",
            "142/142 [==============================] - 0s 2ms/step - loss: 0.0042\n",
            "Epoch 37/100\n",
            "142/142 [==============================] - 0s 2ms/step - loss: 0.0040\n",
            "Epoch 38/100\n",
            "142/142 [==============================] - 0s 2ms/step - loss: 0.0042\n",
            "Epoch 39/100\n",
            "142/142 [==============================] - 0s 2ms/step - loss: 0.0041\n",
            "Epoch 40/100\n",
            "142/142 [==============================] - 0s 2ms/step - loss: 0.0041\n",
            "Epoch 41/100\n",
            "142/142 [==============================] - 0s 2ms/step - loss: 0.0041\n",
            "Epoch 42/100\n",
            "142/142 [==============================] - 0s 2ms/step - loss: 0.0041\n",
            "Epoch 43/100\n",
            "142/142 [==============================] - 0s 2ms/step - loss: 0.0042\n",
            "Epoch 44/100\n",
            "142/142 [==============================] - 0s 2ms/step - loss: 0.0041\n",
            "Epoch 45/100\n",
            "142/142 [==============================] - 0s 2ms/step - loss: 0.0041\n",
            "Epoch 46/100\n",
            "142/142 [==============================] - 0s 2ms/step - loss: 0.0041\n",
            "Epoch 47/100\n",
            "142/142 [==============================] - 0s 2ms/step - loss: 0.0040\n",
            "Epoch 48/100\n",
            "142/142 [==============================] - 0s 2ms/step - loss: 0.0041\n",
            "Epoch 49/100\n",
            "142/142 [==============================] - 0s 2ms/step - loss: 0.0041\n",
            "Epoch 50/100\n",
            "142/142 [==============================] - 0s 2ms/step - loss: 0.0042\n",
            "Epoch 51/100\n",
            "142/142 [==============================] - 0s 2ms/step - loss: 0.0041\n",
            "Epoch 52/100\n",
            "142/142 [==============================] - 0s 2ms/step - loss: 0.0041\n",
            "Epoch 53/100\n",
            "142/142 [==============================] - 0s 2ms/step - loss: 0.0041\n",
            "Epoch 54/100\n",
            "142/142 [==============================] - 0s 2ms/step - loss: 0.0041\n",
            "Epoch 55/100\n",
            "142/142 [==============================] - 0s 2ms/step - loss: 0.0041\n",
            "Epoch 56/100\n",
            "142/142 [==============================] - 0s 2ms/step - loss: 0.0040\n",
            "Epoch 57/100\n",
            "142/142 [==============================] - 0s 2ms/step - loss: 0.0041\n",
            "Epoch 58/100\n",
            "142/142 [==============================] - 0s 2ms/step - loss: 0.0041\n",
            "Epoch 59/100\n",
            "142/142 [==============================] - 0s 2ms/step - loss: 0.0042\n",
            "Epoch 60/100\n",
            "142/142 [==============================] - 0s 2ms/step - loss: 0.0041\n",
            "Epoch 61/100\n",
            "142/142 [==============================] - 0s 2ms/step - loss: 0.0042\n",
            "Epoch 62/100\n",
            "142/142 [==============================] - 0s 2ms/step - loss: 0.0041\n",
            "Epoch 63/100\n",
            "142/142 [==============================] - 0s 2ms/step - loss: 0.0041\n",
            "Epoch 64/100\n",
            "142/142 [==============================] - 0s 2ms/step - loss: 0.0041\n",
            "Epoch 65/100\n",
            "142/142 [==============================] - 0s 2ms/step - loss: 0.0041\n",
            "Epoch 66/100\n",
            "142/142 [==============================] - 0s 2ms/step - loss: 0.0042\n",
            "Epoch 67/100\n",
            "142/142 [==============================] - 0s 2ms/step - loss: 0.0041\n",
            "Epoch 68/100\n",
            "142/142 [==============================] - 0s 2ms/step - loss: 0.0042\n",
            "Epoch 69/100\n",
            "142/142 [==============================] - 0s 2ms/step - loss: 0.0041\n",
            "Epoch 70/100\n",
            "142/142 [==============================] - 0s 2ms/step - loss: 0.0041\n",
            "Epoch 71/100\n",
            "142/142 [==============================] - 0s 2ms/step - loss: 0.0042\n",
            "Epoch 72/100\n",
            "142/142 [==============================] - 0s 2ms/step - loss: 0.0042\n",
            "Epoch 73/100\n",
            "142/142 [==============================] - 0s 2ms/step - loss: 0.0042\n",
            "Epoch 74/100\n",
            "142/142 [==============================] - 0s 2ms/step - loss: 0.0041\n",
            "Epoch 75/100\n",
            "142/142 [==============================] - 0s 2ms/step - loss: 0.0041\n",
            "Epoch 76/100\n",
            "142/142 [==============================] - 0s 2ms/step - loss: 0.0041\n",
            "Epoch 77/100\n",
            "142/142 [==============================] - 0s 2ms/step - loss: 0.0041\n",
            "Epoch 78/100\n",
            "142/142 [==============================] - 0s 2ms/step - loss: 0.0041\n",
            "Epoch 79/100\n",
            "142/142 [==============================] - 0s 2ms/step - loss: 0.0041\n",
            "Epoch 80/100\n",
            "142/142 [==============================] - 0s 2ms/step - loss: 0.0042\n",
            "Epoch 81/100\n",
            "142/142 [==============================] - 0s 2ms/step - loss: 0.0041\n",
            "Epoch 82/100\n",
            "142/142 [==============================] - 0s 2ms/step - loss: 0.0041\n",
            "Epoch 83/100\n",
            "142/142 [==============================] - 0s 2ms/step - loss: 0.0041\n",
            "Epoch 84/100\n",
            "142/142 [==============================] - 0s 2ms/step - loss: 0.0040\n",
            "Epoch 85/100\n",
            "142/142 [==============================] - 0s 2ms/step - loss: 0.0041\n",
            "Epoch 86/100\n",
            "142/142 [==============================] - 0s 2ms/step - loss: 0.0041\n",
            "Epoch 87/100\n",
            "142/142 [==============================] - 0s 2ms/step - loss: 0.0041\n",
            "Epoch 88/100\n",
            "142/142 [==============================] - 0s 2ms/step - loss: 0.0041\n",
            "Epoch 89/100\n",
            "142/142 [==============================] - 0s 2ms/step - loss: 0.0041\n",
            "Epoch 90/100\n",
            "142/142 [==============================] - 0s 2ms/step - loss: 0.0042\n",
            "Epoch 91/100\n",
            "142/142 [==============================] - 0s 2ms/step - loss: 0.0041\n",
            "Epoch 92/100\n",
            "142/142 [==============================] - 0s 2ms/step - loss: 0.0041\n",
            "Epoch 93/100\n",
            "142/142 [==============================] - 0s 2ms/step - loss: 0.0041\n",
            "Epoch 94/100\n",
            "142/142 [==============================] - 0s 2ms/step - loss: 0.0041\n",
            "Epoch 95/100\n",
            "142/142 [==============================] - 0s 2ms/step - loss: 0.0042\n",
            "Epoch 96/100\n",
            "142/142 [==============================] - 0s 2ms/step - loss: 0.0040\n",
            "Epoch 97/100\n",
            "142/142 [==============================] - 0s 2ms/step - loss: 0.0042\n",
            "Epoch 98/100\n",
            "142/142 [==============================] - 0s 2ms/step - loss: 0.0040\n",
            "Epoch 99/100\n",
            "142/142 [==============================] - 0s 2ms/step - loss: 0.0042\n",
            "Epoch 100/100\n",
            "142/142 [==============================] - 0s 2ms/step - loss: 0.0041\n"
          ],
          "name": "stdout"
        },
        {
          "output_type": "execute_result",
          "data": {
            "text/plain": [
              "<keras.callbacks.History at 0x7f6810d48588>"
            ]
          },
          "metadata": {
            "tags": []
          },
          "execution_count": 31
        }
      ]
    },
    {
      "cell_type": "code",
      "metadata": {
        "id": "GEHtt4vfc1-_",
        "colab_type": "code",
        "colab": {}
      },
      "source": [
        "pred=model.predict(xtest)"
      ],
      "execution_count": 0,
      "outputs": []
    },
    {
      "cell_type": "code",
      "metadata": {
        "id": "WWt0A9MAdVti",
        "colab_type": "code",
        "colab": {}
      },
      "source": [
        "pred = sc.inverse_transform(pred)"
      ],
      "execution_count": 0,
      "outputs": []
    },
    {
      "cell_type": "code",
      "metadata": {
        "id": "93I8Obd4deit",
        "colab_type": "code",
        "colab": {}
      },
      "source": [
        "ytest = np.array(ytest)\n",
        "ytest = ytest.reshape(-1, 1)\n",
        "ytest = sc.inverse_transform(ytest)"
      ],
      "execution_count": 0,
      "outputs": []
    },
    {
      "cell_type": "code",
      "metadata": {
        "id": "ZovcVQGdds8v",
        "colab_type": "code",
        "colab": {
          "base_uri": "https://localhost:8080/",
          "height": 320
        },
        "outputId": "2c5177c6-63ee-4264-c40d-8ec7f13c2423"
      },
      "source": [
        "plt.figure(figsize=(14,5))\n",
        "plt.plot(ytest, label = 'real number of passengers')\n",
        "plt.plot(pred, label = 'predicted number of passengers')\n",
        "plt.ylabel('# passengers')\n",
        "plt.legend()\n",
        "plt.show()\n"
      ],
      "execution_count": 37,
      "outputs": [
        {
          "output_type": "display_data",
          "data": {
            "image/png": "[encoded data removed]",
            "text/plain": [
              "<Figure size 1008x360 with 1 Axes>"
            ]
          },
          "metadata": {
            "tags": []
          }
        }
      ]
    },
    {
      "cell_type": "code",
      "metadata": {
        "id": "uf_XZr2vdzxf",
        "colab_type": "code",
        "colab": {}
      },
      "source": [
        ""
      ],
      "execution_count": 0,
      "outputs": []
    }
  ]
}
